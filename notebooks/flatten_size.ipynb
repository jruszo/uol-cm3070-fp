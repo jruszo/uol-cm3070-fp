{
 "cells": [
  {
   "cell_type": "markdown",
   "source": [
    "# For the Dense layer, we need to get the size of output after flatten"
   ],
   "metadata": {
    "collapsed": false
   },
   "id": "38cfd63651649b86"
  },
  {
   "cell_type": "code",
   "execution_count": null,
   "id": "initial_id",
   "metadata": {
    "collapsed": true
   },
   "outputs": [],
   "source": [
    "\n",
    "from __future__ import print_function\n",
    "import argparse\n",
    "import torch\n",
    "import torch.nn as nn\n",
    "import torch.nn.functional as F\n",
    "import torch.optim as optim\n",
    "from torchvision import datasets, transforms\n",
    "from torch.optim.lr_scheduler import StepLR"
   ]
  },
  {
   "cell_type": "code",
   "execution_count": null,
   "outputs": [],
   "source": [
    "class MeasureNet(nn.Module):\n",
    "    def __init__(self,layers):\n",
    "        super(MeasureNet, self).__init__()\n",
    "        self.layersList = layers\n",
    "    def ExpandLayers(self):\n",
    "        for layer in self.layersList:\n",
    "            if layer[0] == 'conv':\n",
    "                self.add_module('conv'+str(layer[1]),nn.Conv2d(layer[2],layer[3],layer[4],stride=layer[5],padding=layer[6]))\n",
    "            elif layer[0] == 'pool':\n",
    "                self.add_module('pool'+str(layer[1]),nn.MaxPool2d(layer[2],stride=layer[3]))\n",
    "            elif layer[0] == 'relu':\n",
    "                self.add_module('relu'+str(layer[1]),nn.ReLU())\n",
    "            elif layer[0] == 'fc':\n",
    "                self.add_module('fc'+str(layer[1]),nn.Linear(layer[2],layer[3]))\n",
    "            elif layer[0] == 'flatten':\n",
    "                self.add_module('flatten'+str(layer[1]),nn.Flatten())\n",
    "            elif layer[0] == 'dropout':\n",
    "                self.add_module('dropout'+str(layer[1]),nn.Dropout2d(layer[2]))\n",
    "            elif layer[0] == 'softmax':\n",
    "                self.add_module('softmax'+str(layer[1]),nn.Softmax(dim=1))\n",
    "            elif layer[0] == 'batchnorm':\n",
    "                self.add_module('batchnorm'+str(layer[1]),nn.BatchNorm2d(layer[2]))\n",
    "            elif layer[0] == 'avgpool':\n",
    "                self.add_module('avgpool'+str(layer[1]),nn.AvgPool2d(layer[2],stride=layer[3]))\n",
    "            elif layer[0] == 'tanh':\n",
    "                self.add_module('tanh'+str(layer[1]),nn.Tanh())\n",
    "            elif layer[0] == 'sigmoid':\n",
    "                self.add_module('sigmoid'+str(layer[1]),nn.Sigmoid())\n",
    "            elif layer[0] == 'leakyrelu':\n",
    "                self.add_module('leakyrelu'+str(layer[1]),nn.LeakyReLU())\n",
    "            elif layer[0] == 'prelu':\n",
    "                self.add_module('prelu'+str(layer[1]),nn.PReLU())\n",
    "            elif layer[0] == 'elu':\n",
    "                self.add_module('elu'+str(layer[1]),nn.ELU())\n",
    "            elif layer[0] == 'selu':\n",
    "                self.add_module('selu'+str(layer[1]),nn.SELU())\n",
    "            elif layer[0] == 'hardshrink':\n",
    "                self.add_module('hardshrink'+str(layer[1]),nn.H\n",
    "        "
   ],
   "metadata": {
    "collapsed": false,
    "ExecuteTime": {
     "end_time": "2023-12-03T09:32:39.808063Z",
     "start_time": "2023-12-03T09:32:39.806184Z"
    }
   },
   "id": "7da3151952b79b4c"
  },
  {
   "cell_type": "code",
   "execution_count": null,
   "outputs": [],
   "source": [],
   "metadata": {
    "collapsed": false
   },
   "id": "d9356a1181ed5714"
  }
 ],
 "metadata": {
  "kernelspec": {
   "display_name": "Python 3",
   "language": "python",
   "name": "python3"
  },
  "language_info": {
   "codemirror_mode": {
    "name": "ipython",
    "version": 2
   },
   "file_extension": ".py",
   "mimetype": "text/x-python",
   "name": "python",
   "nbconvert_exporter": "python",
   "pygments_lexer": "ipython2",
   "version": "2.7.6"
  }
 },
 "nbformat": 4,
 "nbformat_minor": 5
}

{
 "cells": [
  {
   "cell_type": "code",
   "execution_count": 1,
   "id": "initial_id",
   "metadata": {
    "collapsed": true,
    "ExecuteTime": {
     "end_time": "2023-12-23T14:11:56.098572Z",
     "start_time": "2023-12-23T14:11:54.766307Z"
    }
   },
   "outputs": [],
   "source": [
    "from __future__ import print_function\n",
    "import argparse\n",
    "import torch\n",
    "import torch.nn as nn\n",
    "import torch.nn.functional as F\n",
    "import torch.optim as optim\n",
    "from torchvision import datasets, transforms\n",
    "from torch.optim.lr_scheduler import StepLR"
   ]
  },
  {
   "cell_type": "markdown",
   "source": [
    "# Packaging code from dense_prototype into a class to instantiate and train based on DNA"
   ],
   "metadata": {
    "collapsed": false
   },
   "id": "1b879c36aa01258d"
  },
  {
   "cell_type": "code",
   "execution_count": 2,
   "outputs": [],
   "source": [
    "DNA_list = [\n",
    "    [[\"D\",1024],[\"D\",512],[\"D\",128]],\n",
    "    [[\"D\",1024],[\"R\",0.2],[\"D\",512],[\"R\",0.2],[\"D\",128]]\n",
    "]"
   ],
   "metadata": {
    "collapsed": false,
    "ExecuteTime": {
     "end_time": "2023-12-31T09:38:23.222858Z",
     "start_time": "2023-12-31T09:38:23.217490Z"
    }
   },
   "id": "65d9fa903629109b"
  },
  {
   "cell_type": "markdown",
   "source": [
    "Defaults for the training configurations"
   ],
   "metadata": {
    "collapsed": false
   },
   "id": "8170e2b6008d0711"
  },
  {
   "cell_type": "code",
   "execution_count": 3,
   "outputs": [
    {
     "ename": "NameError",
     "evalue": "name 'torch' is not defined",
     "output_type": "error",
     "traceback": [
      "\u001B[0;31m---------------------------------------------------------------------------\u001B[0m",
      "\u001B[0;31mNameError\u001B[0m                                 Traceback (most recent call last)",
      "Cell \u001B[0;32mIn[3], line 3\u001B[0m\n\u001B[1;32m      1\u001B[0m batch_size \u001B[38;5;241m=\u001B[39m \u001B[38;5;241m16\u001B[39m\n\u001B[1;32m      2\u001B[0m use_mps \u001B[38;5;241m=\u001B[39m \u001B[38;5;28;01mFalse\u001B[39;00m \u001B[38;5;129;01mand\u001B[39;00m torch\u001B[38;5;241m.\u001B[39mbackends\u001B[38;5;241m.\u001B[39mmps\u001B[38;5;241m.\u001B[39mis_available()\n\u001B[0;32m----> 3\u001B[0m use_cuda \u001B[38;5;241m=\u001B[39m \u001B[38;5;28;01mTrue\u001B[39;00m \u001B[38;5;129;01mand\u001B[39;00m \u001B[43mtorch\u001B[49m\u001B[38;5;241m.\u001B[39mcuda\u001B[38;5;241m.\u001B[39mis_available()\n\u001B[1;32m      4\u001B[0m test_batch_size \u001B[38;5;241m=\u001B[39m \u001B[38;5;241m128\u001B[39m\n\u001B[1;32m      5\u001B[0m epochs \u001B[38;5;241m=\u001B[39m \u001B[38;5;241m14\u001B[39m\n",
      "\u001B[0;31mNameError\u001B[0m: name 'torch' is not defined"
     ]
    }
   ],
   "source": [
    "batch_size = 16\n",
    "use_mps = False and torch.backends.mps.is_available()\n",
    "use_cuda = True and torch.cuda.is_available()\n",
    "test_batch_size = 128\n",
    "epochs = 14\n",
    "lr = 1.0\n",
    "gamma = 0.7\n",
    "seed = 1\n",
    "log_interval = 10\n",
    "save_model = False\n",
    "\n",
    "if use_cuda:\n",
    "    device = torch.device(\"cuda\")\n",
    "elif use_mps:\n",
    "    device = torch.device(\"mps\")\n",
    "else:\n",
    "    device = torch.device(\"cpu\")\n",
    "    \n",
    "train_kwargs = {'batch_size': batch_size}\n",
    "test_kwargs = {'batch_size': test_batch_size}\n",
    "\n",
    "transform=transforms.Compose([\n",
    "        transforms.ToTensor(),\n",
    "        transforms.Normalize((0.1307,), (0.3081,)),\n",
    "        transforms.Lambda(lambda x: torch.flatten(x))\n",
    "        ])\n",
    "dataset1 = datasets.MNIST('../data', train=True, download=True,\n",
    "                       transform=transform)\n",
    "dataset2 = datasets.MNIST('../data', train=False,\n",
    "                       transform=transform)\n",
    "train_loader = torch.utils.data.DataLoader(dataset1,**train_kwargs)\n",
    "test_loader = torch.utils.data.DataLoader(dataset2, **test_kwargs)"
   ],
   "metadata": {
    "collapsed": false,
    "ExecuteTime": {
     "end_time": "2023-12-31T09:38:24.520915Z",
     "start_time": "2023-12-31T09:38:24.510950Z"
    }
   },
   "id": "c9b894750a319095"
  },
  {
   "cell_type": "code",
   "execution_count": 4,
   "outputs": [
    {
     "ename": "NameError",
     "evalue": "name 'nn' is not defined",
     "output_type": "error",
     "traceback": [
      "\u001B[0;31m---------------------------------------------------------------------------\u001B[0m",
      "\u001B[0;31mNameError\u001B[0m                                 Traceback (most recent call last)",
      "Cell \u001B[0;32mIn[4], line 1\u001B[0m\n\u001B[0;32m----> 1\u001B[0m \u001B[38;5;28;01mclass\u001B[39;00m \u001B[38;5;21;01mConstructNet\u001B[39;00m(\u001B[43mnn\u001B[49m\u001B[38;5;241m.\u001B[39mModule):\n\u001B[1;32m      2\u001B[0m     \u001B[38;5;28;01mdef\u001B[39;00m \u001B[38;5;21m__init__\u001B[39m(\u001B[38;5;28mself\u001B[39m, DNA, input_size\u001B[38;5;241m=\u001B[39m\u001B[38;5;241m28\u001B[39m\u001B[38;5;241m*\u001B[39m\u001B[38;5;241m28\u001B[39m, output_size\u001B[38;5;241m=\u001B[39m\u001B[38;5;241m10\u001B[39m):\n\u001B[1;32m      3\u001B[0m         \u001B[38;5;28msuper\u001B[39m(ConstructNet, \u001B[38;5;28mself\u001B[39m)\u001B[38;5;241m.\u001B[39m\u001B[38;5;21m__init__\u001B[39m()\n",
      "\u001B[0;31mNameError\u001B[0m: name 'nn' is not defined"
     ]
    }
   ],
   "source": [
    "class ConstructNet(nn.Module):\n",
    "    def __init__(self, DNA, input_size=28*28, output_size=10):\n",
    "        super(ConstructNet, self).__init__()\n",
    "        self.DNA = DNA\n",
    "        self.input_size = input_size\n",
    "        self.output_size = output_size\n",
    "        self.layers = []\n",
    "        \n",
    "        # Append first layer\n",
    "        self.layers.append(nn.Linear(self.input_size, self.DNA[0][1]))\n",
    "        self.layers.append(nn.ReLU())\n",
    "        \n",
    "        for i in range(1, len(self.DNA)):\n",
    "            if self.DNA[i][0] == \"D\":\n",
    "                # The input size is the output of the last layer\n",
    "                tmp_input_size = self.last_layer_output_size()\n",
    "                self.layers.append(nn.Linear(tmp_input_size, self.DNA[i][1]))\n",
    "                self.layers.append(nn.ReLU())\n",
    "            if self.DNA[i][0] == \"R\":\n",
    "                self.layers.append(nn.Dropout(self.DNA[i][1]))\n",
    "        \n",
    "        # Append the output layer        \n",
    "        self.layers.append(nn.Linear(self.layers[-2].out_features, self.output_size))\n",
    "        self.layers.append(nn.LogSoftmax(dim=1))\n",
    "        self.net = nn.Sequential(*self.layers)\n",
    "        \n",
    "    def forward(self, x):\n",
    "        return self.net(x)\n",
    "    '''\n",
    "    Based on the layers created, find the output size of the last dense layer\n",
    "    '''\n",
    "    def last_layer_output_size(self):\n",
    "        for layer in self.layers[::-1]:\n",
    "            if isinstance(layer, nn.Linear):\n",
    "                return layer.out_features\n",
    "            \n",
    "    def train_net(self, device, train_loader, optimizer, epoch, log_interval, print_stats):\n",
    "        self.train()\n",
    "        for batch_idx, (data, target) in enumerate(train_loader):\n",
    "            data, target = data.to(device), target.to(device)\n",
    "            optimizer.zero_grad()\n",
    "            output = self.forward(data)\n",
    "            loss = F.nll_loss(output, target)\n",
    "            loss.backward()\n",
    "            optimizer.step()\n",
    "            if batch_idx % log_interval == 0 and print_stats:\n",
    "                print('Train Epoch: {} [{}/{} ({:.0f}%)]\\tLoss: {:.6f}'.format(\n",
    "                    epoch, batch_idx * len(data), len(train_loader.dataset),\n",
    "                    100. * batch_idx / len(train_loader), loss.item()))\n",
    "\n",
    "\n",
    "    def test(self, device, test_loader):\n",
    "        self.eval()\n",
    "        test_loss = 0\n",
    "        correct = 0\n",
    "        with torch.no_grad():\n",
    "            for data, target in test_loader:\n",
    "                data, target = data.to(device), target.to(device)\n",
    "                output = self.forward(data)\n",
    "                test_loss += F.nll_loss(output, target, reduction='sum').item()  # sum up batch loss\n",
    "                pred = output.argmax(dim=1, keepdim=True)  # get the index of the max log-probability\n",
    "                correct += pred.eq(target.view_as(pred)).sum().item()\n",
    "        test_loss /= len(test_loader.dataset)\n",
    "        print('\\nTest set: Average loss: {:.4f}, Accuracy: {}/{} ({:.0f}%)\\n'.format(\n",
    "            test_loss, correct, len(test_loader.dataset),\n",
    "            100. * correct / len(test_loader.dataset)))\n",
    "        \n",
    "    def count_parameters(self):\n",
    "        # https://discuss.pytorch.org/t/how-do-i-check-the-number-of-parameters-of-a-model/4325/7\n",
    "        return sum(p.numel() for p in self.net.parameters() if p.requires_grad)        \n",
    "        \n",
    "    "
   ],
   "metadata": {
    "collapsed": false,
    "ExecuteTime": {
     "end_time": "2023-12-31T09:38:25.001047Z",
     "start_time": "2023-12-31T09:38:24.988437Z"
    }
   },
   "id": "2995c69efb6cda7f"
  },
  {
   "cell_type": "code",
   "execution_count": 1,
   "outputs": [
    {
     "ename": "NameError",
     "evalue": "name 'DNA_list' is not defined",
     "output_type": "error",
     "traceback": [
      "\u001B[0;31m---------------------------------------------------------------------------\u001B[0m",
      "\u001B[0;31mNameError\u001B[0m                                 Traceback (most recent call last)",
      "Cell \u001B[0;32mIn[1], line 1\u001B[0m\n\u001B[0;32m----> 1\u001B[0m \u001B[38;5;28;01mfor\u001B[39;00m DNA \u001B[38;5;129;01min\u001B[39;00m \u001B[43mDNA_list\u001B[49m:\n\u001B[1;32m      2\u001B[0m     inv_net \u001B[38;5;241m=\u001B[39m ConstructNet(DNA)\n\u001B[1;32m      3\u001B[0m     \u001B[38;5;28mprint\u001B[39m(inv_net)\n",
      "\u001B[0;31mNameError\u001B[0m: name 'DNA_list' is not defined"
     ]
    }
   ],
   "source": [
    "for DNA in DNA_list:\n",
    "    inv_net = ConstructNet(DNA)\n",
    "    print(inv_net)\n",
    "    optimizer = optim.Adadelta(inv_net.parameters(), lr=lr)\n",
    "    scheduler = StepLR(optimizer, step_size=1, gamma=gamma)\n",
    "\n",
    "    for epoch in range(1, epochs + 1):\n",
    "        inv_net.train_net(device, train_loader, optimizer, epoch, log_interval, print_stats=False)\n",
    "        inv_net.test(device, test_loader)\n",
    "        scheduler.step()\n",
    "\n",
    "    if save_model:\n",
    "        torch.save(inv_net.state_dict(), \"mnist_cnn.pt\")"
   ],
   "metadata": {
    "collapsed": false,
    "ExecuteTime": {
     "end_time": "2023-12-31T09:38:16.244343Z",
     "start_time": "2023-12-31T09:38:16.154524Z"
    }
   },
   "id": "dfab18df9e886edd"
  },
  {
   "cell_type": "code",
   "execution_count": null,
   "outputs": [],
   "source": [],
   "metadata": {
    "collapsed": false
   },
   "id": "634c357cd45fe91"
  }
 ],
 "metadata": {
  "kernelspec": {
   "display_name": "Python 3",
   "language": "python",
   "name": "python3"
  },
  "language_info": {
   "codemirror_mode": {
    "name": "ipython",
    "version": 2
   },
   "file_extension": ".py",
   "mimetype": "text/x-python",
   "name": "python",
   "nbconvert_exporter": "python",
   "pygments_lexer": "ipython2",
   "version": "2.7.6"
  }
 },
 "nbformat": 4,
 "nbformat_minor": 5
}

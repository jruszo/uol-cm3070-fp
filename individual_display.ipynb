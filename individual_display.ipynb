{
 "cells": [
  {
   "cell_type": "code",
   "execution_count": 12,
   "id": "initial_id",
   "metadata": {
    "collapsed": true,
    "ExecuteTime": {
     "end_time": "2024-03-09T09:59:13.410615Z",
     "start_time": "2024-03-09T09:59:12.556792Z"
    }
   },
   "outputs": [
    {
     "name": "stdout",
     "output_type": "stream",
     "text": [
      "Requirement already satisfied: torchsummary in /Users/jruszo/miniconda3/envs/final-project-39/lib/python3.9/site-packages (1.5.1)\r\n"
     ]
    }
   ],
   "source": [
    "import os\n",
    "\n",
    "import torch\n",
    "import torch.nn as nn\n",
    "import torch.nn.functional as F\n",
    "import torch.optim as optim\n",
    "import numpy as np\n",
    "import pandas as pd\n",
    "from torchvision import datasets, transforms\n",
    "!pip install torchsummary\n",
    "\n",
    "from torchsummary import summary"
   ]
  },
  {
   "cell_type": "code",
   "outputs": [],
   "source": [
    "class ConstructNet(nn.Module):\n",
    "    def __init__(self, DNA, loss_fn, input_size, output_size):\n",
    "        #print(DNA)\n",
    "        super(ConstructNet, self).__init__()\n",
    "        self.DNA = DNA\n",
    "        self.input_size = input_size\n",
    "        self.output_size = output_size\n",
    "        self.layers = []\n",
    "        self.loss_fn = loss_fn\n",
    "\n",
    "        # Append first layer\n",
    "        self.layers.append(nn.Conv2d(1, 2 * self.DNA[0][1], kernel_size=3, stride=1, padding=1))\n",
    "        self.layers.append(nn.ReLU())\n",
    "        \n",
    "        for i in range(1, len(self.DNA)):\n",
    "            #print(self.DNA[i])\n",
    "            if self.DNA[i][0] == \"C\":\n",
    "                self.layers.append(nn.Conv2d(2 * self.DNA[i-1][1], 2 * self.DNA[i][1], kernel_size=3, stride=1, padding=1))\n",
    "                self.layers.append(nn.ReLU())\n",
    "            if self.DNA[i][0] == \"D\":\n",
    "                # The input size is the output of the last layer\n",
    "                tmp_input_size = self.last_layer_output_size()\n",
    "                self.layers.append(nn.Linear(tmp_input_size, self.DNA[i][1]))\n",
    "                self.layers.append(nn.ReLU())\n",
    "            if self.DNA[i][0] == \"R\":\n",
    "                self.layers.append(nn.Dropout(self.DNA[i][1]))\n",
    "\n",
    "        # Append the output layer \n",
    "        self.layers.append(nn.Flatten())\n",
    "        \n",
    "        cnn_output = self.cnn_output_size()\n",
    "        self.layers.append(nn.Linear(cnn_output[1], self.output_size*10))\n",
    "        self.layers.append(nn.ReLU())\n",
    "        self.layers.append(nn.Linear(self.output_size*10, self.output_size))\n",
    "        \n",
    "        self.net = nn.Sequential(*self.layers, nn.Softmax(dim=1))\n",
    "    def cnn_output_size(self):\n",
    "        input = torch.ones(64, 1, self.input_size,self.input_size)\n",
    "        #print(input.shape)\n",
    "        for layer in self.layers:\n",
    "            input = layer(input)\n",
    "        #print(self.layers)\n",
    "        return input.shape\n",
    "    \n",
    "    def forward(self, x):\n",
    "        #print(x.shape)\n",
    "        return self.net(x)\n",
    "\n",
    "    '''\n",
    "    Based on the layers created, find the output size of the last dense layer\n",
    "    '''\n",
    "\n",
    "    def last_layer_output_size(self):\n",
    "        for layer in self.layers[::-1]:\n",
    "            if isinstance(layer, nn.Linear):\n",
    "                return layer.out_features\n",
    "\n",
    "    def train_net(self, device, train_loader, optimizer, epoch, log_interval, print_stats):\n",
    "        self.train()\n",
    "        for batch_idx, (data, target) in enumerate(train_loader):\n",
    "            data, target = data.to(device), target.to(device)\n",
    "            optimizer.zero_grad()\n",
    "            output = self.forward(data)\n",
    "            #print(output)\n",
    "            loss = self.loss_fn(output, target)\n",
    "            loss.backward()\n",
    "            optimizer.step()\n",
    "            if batch_idx % log_interval == 0 and print_stats:\n",
    "                print('Train Epoch: {} [{}/{} ({:.0f}%)]\\tLoss: {:.6f}'.format(\n",
    "                    epoch, batch_idx * len(data), len(train_loader.dataset),\n",
    "                           100. * batch_idx / len(train_loader), loss.item()))\n",
    "\n",
    "    def test(self, device, test_loader, print_stats=False):\n",
    "        self.eval()\n",
    "        test_loss = 0\n",
    "        correct = 0\n",
    "        with torch.no_grad():\n",
    "            for data, target in test_loader:\n",
    "                data, target = data.to(device), target.to(device)\n",
    "                output = self.forward(data)\n",
    "                #print(f\"output: {output}, target: {target}\")\n",
    "                test_loss += self.loss_fn.forward(output, target).item()  # sum up batch loss\n",
    "                pred = output.argmax(dim=1, keepdim=True)  # get the index of the max log-probability\n",
    "                correct += pred.eq(target.view_as(pred)).sum().item()\n",
    "        test_loss /= len(test_loader.dataset)\n",
    "        accuracy = correct / len(test_loader.dataset)\n",
    "        if print_stats:\n",
    "            print('\\nTest set: Average loss: {:.4f}, Accuracy: {}/{} ({:.0f}%)\\n'.format(\n",
    "                test_loss, correct, len(test_loader.dataset),\n",
    "                100. * accuracy))\n",
    "        return test_loss, accuracy\n",
    "\n",
    "    def count_parameters(self):\n",
    "        # https://discuss.pytorch.org/t/how-do-i-check-the-number-of-parameters-of-a-model/4325/7\n",
    "        return sum(p.numel() for p in self.net.parameters() if p.requires_grad)        "
   ],
   "metadata": {
    "collapsed": false,
    "ExecuteTime": {
     "end_time": "2024-03-09T09:59:56.787802Z",
     "start_time": "2024-03-09T09:59:56.783563Z"
    }
   },
   "id": "4135db021fd438dd",
   "execution_count": 17
  },
  {
   "cell_type": "code",
   "outputs": [],
   "source": [
    "best_net = torch.load('./models/gen_54/ind_25_314806_0.9431.pt', map_location=torch.device('cpu'))"
   ],
   "metadata": {
    "collapsed": false,
    "ExecuteTime": {
     "end_time": "2024-03-09T10:00:45.118399Z",
     "start_time": "2024-03-09T10:00:45.108818Z"
    }
   },
   "id": "71e4034562acd164",
   "execution_count": 21
  },
  {
   "cell_type": "code",
   "outputs": [
    {
     "name": "stdout",
     "output_type": "stream",
     "text": [
      "----------------------------------------------------------------\n",
      "        Layer (type)               Output Shape         Param #\n",
      "================================================================\n",
      "            Conv2d-1            [-1, 2, 28, 28]              20\n",
      "              ReLU-2            [-1, 2, 28, 28]               0\n",
      "            Conv2d-3            [-1, 4, 28, 28]              76\n",
      "              ReLU-4            [-1, 4, 28, 28]               0\n",
      "           Flatten-5                 [-1, 3136]               0\n",
      "            Linear-6                  [-1, 100]         313,700\n",
      "              ReLU-7                  [-1, 100]               0\n",
      "            Linear-8                   [-1, 10]           1,010\n",
      "           Softmax-9                   [-1, 10]               0\n",
      "================================================================\n",
      "Total params: 314,806\n",
      "Trainable params: 314,806\n",
      "Non-trainable params: 0\n",
      "----------------------------------------------------------------\n",
      "Input size (MB): 0.00\n",
      "Forward/backward pass size (MB): 0.10\n",
      "Params size (MB): 1.20\n",
      "Estimated Total Size (MB): 1.30\n",
      "----------------------------------------------------------------\n"
     ]
    }
   ],
   "source": [
    "summary(best_net,(1,28,28))"
   ],
   "metadata": {
    "collapsed": false,
    "ExecuteTime": {
     "end_time": "2024-03-09T10:00:45.781518Z",
     "start_time": "2024-03-09T10:00:45.745079Z"
    }
   },
   "id": "714c629dce7ca35e",
   "execution_count": 22
  },
  {
   "cell_type": "code",
   "outputs": [],
   "source": [],
   "metadata": {
    "collapsed": false
   },
   "id": "4189bd8ceb4a9391"
  }
 ],
 "metadata": {
  "kernelspec": {
   "display_name": "Python 3",
   "language": "python",
   "name": "python3"
  },
  "language_info": {
   "codemirror_mode": {
    "name": "ipython",
    "version": 2
   },
   "file_extension": ".py",
   "mimetype": "text/x-python",
   "name": "python",
   "nbconvert_exporter": "python",
   "pygments_lexer": "ipython2",
   "version": "2.7.6"
  }
 },
 "nbformat": 4,
 "nbformat_minor": 5
}
